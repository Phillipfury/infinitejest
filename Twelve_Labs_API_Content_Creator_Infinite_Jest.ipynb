{
  "cells": [
    {
      "cell_type": "markdown",
      "metadata": {
        "id": "oT_AjsAurpIR"
      },
      "source": [
        "Twelve Labs Video Understanding Platform, currently in beta, offers an API suite for integrating a state-of-the-art (“SOTA”) foundation model that understands contextual information from your videos, making it accessible to your applications. The API is organized around REST and is compatible with most programming languages. You can also use Postman or other REST clients to send requests and view responses.\n",
        "\n",
        "The following diagram illustrates the architecture of the Twelve Labs Video Understanding Platform and how different parts interact:\n",
        "\n",
        "![](https://files.readme.io/5fb7a80-image.png)\n",
        "\n",
        "## 1 - Setup and Requirements\n",
        "The Twelve Labs Video Understanding API is currently in open beta. Before you begin, [sign up](https://api.twelvelabs.io) for a free account, or if you already have one, [sign in](https://api.twelvelabs.io).\n",
        "\n",
        "You will receive a signup code that you can use to create an account. Once you have created an account, you can access the API Dashboard.\n",
        "\n",
        "This demo will use an existing account. To make calls to the API, you need your secret key and specify the URL of the API. You can use environment variables to pass configuration to your application."
      ]
    },
    {
      "cell_type": "code",
      "execution_count": 25,
      "metadata": {
        "colab": {
          "base_uri": "https://localhost:8080/"
        },
        "id": "ydgqdioXpkq1",
        "outputId": "89102e5f-9529-4277-adc2-53a62e76cea6"
      },
      "outputs": [
        {
          "output_type": "stream",
          "name": "stdout",
          "text": [
            "env: API_KEY=tlk_3Q0CS7N2TKJJK42D1DQQ71SWFX3S\n",
            "env: API_URL=https://api.twelvelabs.io/v1.2\n"
          ]
        }
      ],
      "source": [
        "# Specify the API key and the URL of the API\n",
        "%env API_KEY=tlk_3Q0CS7N2TKJJK42D1DQQ71SWFX3S\n",
        "%env API_URL=https://api.twelvelabs.io/v1.2"
      ]
    },
    {
      "cell_type": "markdown",
      "metadata": {
        "id": "31isfodVuYPx"
      },
      "source": [
        "The next step is to install the required package."
      ]
    },
    {
      "cell_type": "code",
      "execution_count": 26,
      "metadata": {
        "colab": {
          "base_uri": "https://localhost:8080/"
        },
        "id": "RpJCQ42RuxFF",
        "outputId": "fafa1d35-7bdd-4bb5-e092-dc84e989672b"
      },
      "outputs": [
        {
          "output_type": "stream",
          "name": "stdout",
          "text": [
            "Requirement already satisfied: requests in /usr/local/lib/python3.10/dist-packages (2.31.0)\n",
            "Requirement already satisfied: charset-normalizer<4,>=2 in /usr/local/lib/python3.10/dist-packages (from requests) (3.3.2)\n",
            "Requirement already satisfied: idna<4,>=2.5 in /usr/local/lib/python3.10/dist-packages (from requests) (3.7)\n",
            "Requirement already satisfied: urllib3<3,>=1.21.1 in /usr/local/lib/python3.10/dist-packages (from requests) (2.0.7)\n",
            "Requirement already satisfied: certifi>=2017.4.17 in /usr/local/lib/python3.10/dist-packages (from requests) (2024.6.2)\n"
          ]
        }
      ],
      "source": [
        "!pip install requests"
      ]
    },
    {
      "cell_type": "markdown",
      "metadata": {
        "id": "XgLXWW74u59S"
      },
      "source": [
        "You want to import the required Python packages and retrieve the API key as well as the API URL."
      ]
    },
    {
      "cell_type": "code",
      "execution_count": 27,
      "metadata": {
        "id": "GW9vRq7NuycH"
      },
      "outputs": [],
      "source": [
        "# Import the required packages\n",
        "import requests\n",
        "import glob\n",
        "from pprint import pprint\n",
        "import os"
      ]
    },
    {
      "cell_type": "code",
      "execution_count": 28,
      "metadata": {
        "id": "jpAEIBMavBZv"
      },
      "outputs": [],
      "source": [
        "# Retrieve the URL of the API and my API key\n",
        "API_URL = os.getenv(\"API_URL\")\n",
        "assert API_URL\n",
        "\n",
        "API_KEY = os.getenv(\"API_KEY\")\n",
        "assert API_KEY"
      ]
    },
    {
      "cell_type": "markdown",
      "metadata": {
        "id": "zUkH6-QZuZ6Y"
      },
      "source": [
        "## 2 - Index API\n",
        "The next step is to [create a video index](https://docs.twelvelabs.io/v1.2/docs/create-indexes). An index groups one or more video vectors and is the most granular level at which you can perform a search."
      ]
    },
    {
      "cell_type": "markdown",
      "metadata": {
        "id": "dHHc7mOEvaUS"
      },
      "source": [
        "### 2.1 - Create An Index\n",
        "An index is a basic unit to organize and store your video data (video embeddings and metadata) to facilitate information retrieval and processing.\n",
        "\n",
        "You can use indexes to group related videos. For example, if you want to upload multiple videos from a car race, Twelve Labs recommends you create a single index and upload all the videos to it. Then, to find a specific moment in that race, you call the /search endpoint once, passing it the unique identifier of the index.\n",
        "\n",
        "When creating a new index, you must specify the following information:\n",
        "\n",
        "*   **Name**: Use a brief and descriptive name to facilitate future reference and management.\n",
        "*   **Engine configuration**: Provide a list containing the [video understanding engines](https://docs.twelvelabs.io/v1.2/docs/video-understanding-engines) and the associated [engine options](https://docs.twelvelabs.io/v1.2/docs/indexing-options) you want to enable.\n",
        "\n",
        "#### Video Understanding Engines\n",
        "Twelve Labs' video understanding engines consist of a family of deep neural networks built on our multimodal foundation model for video understanding that you can use for the following downstream tasks:\n",
        "\n",
        "*   Search using natural language queries\n",
        "*   Zero-shot classification\n",
        "*   Generate concise textual representations\n",
        "\n",
        "Twelve Labs provides two distinct engine types - embedding and generative, each serving unique purposes in multimodal video understanding.\n",
        "*   **Embedding engines**: These engines are proficient at performing tasks such as search and classification, enabling enhanced video understanding. We recommend choosing Marengo2.5.\n",
        "*   **Generative engines**: These engines specialize in generating concise textual representations for video. We recommend choosing Pegasus1.0.\n",
        "\n",
        "#### Engine Options\n",
        "\n",
        "Engine options indicate the types of information a video understanding engine will process. When creating a new index, you must specify the engines and the associated engines options that you want to enable.\n",
        "\n",
        "The following engine options are available:\n",
        "\n",
        "*   **visual**: This option allows you to analyze video content as you would see and hear from it, including actions, objects, sounds, and events, and excluding human speech.\n",
        "*   **conversation**: This option allows you to analyze human speech within your videos.\n",
        "*   **text_in_video**: This option allows you to detect and extract text (OCR) shown within your videos.\n",
        "*   **logo**: This option allows you to identify the presence of brand logos within your videos."
      ]
    },
    {
      "cell_type": "code",
      "execution_count": 29,
      "metadata": {
        "colab": {
          "base_uri": "https://localhost:8080/"
        },
        "id": "ZSmhDwX-wtUR",
        "outputId": "8421ac04-9683-4dff-fa76-c6e70cca6563"
      },
      "outputs": [
        {
          "output_type": "stream",
          "name": "stdout",
          "text": [
            "API_URL: https://api.twelvelabs.io/v1.2\n",
            "INDEXES_URL: https://api.twelvelabs.io/v1.2/indexes\n",
            "Error creating index. Status code: 201\n",
            "{\"_id\":\"666599d4e6fb7df29de0f89c\"}\n",
            "\n"
          ]
        }
      ],
      "source": [
        "# Import the required packages\n",
        "import requests\n",
        "import glob\n",
        "from pprint import pprint\n",
        "import os\n",
        "\n",
        "# Retrieve the URL of the API and my API key\n",
        "API_URL = os.getenv(\"API_URL\")\n",
        "assert API_URL\n",
        "\n",
        "API_KEY = os.getenv(\"API_KEY\")\n",
        "assert API_KEY\n",
        "\n",
        "# Construct the URL of the `/indexes` endpoint\n",
        "INDEXES_URL = f\"{API_URL}/indexes\"\n",
        "\n",
        "print(f\"API_URL: {API_URL}\")  # Print the API base URL\n",
        "print(f\"INDEXES_URL: {INDEXES_URL}\")\n",
        "\n",
        "# Specify the name of the index\n",
        "INDEX_NAME = \"Content Creator Videos\"\n",
        "\n",
        "# Set the header of the request\n",
        "headers = {\n",
        "    \"x-api-key\": API_KEY\n",
        "}\n",
        "\n",
        "# Declare a dictionary named data\n",
        "data = {\n",
        "  \"engines\": [\n",
        "    {\n",
        "      \"engine_name\": \"marengo2.6\",  # Configure the video understanding engine\n",
        "      \"engine_options\": [\"visual\", \"conversation\", \"text_in_video\", \"logo\"]  # Specify the engine options\n",
        "    },\n",
        "    {\n",
        "      \"engine_name\": \"pegasus1\",  # Configure the video understanding engine\n",
        "      \"engine_options\": [\"visual\", \"conversation\"]  # Specify the engine options\n",
        "    }\n",
        "  ],\n",
        "  \"index_name\": INDEX_NAME,\n",
        "  \"addons\": [\"thumbnail\"]  # Enable the thumbnail generation feature\n",
        "}\n",
        "\n",
        "# Create an index\n",
        "response = requests.post(INDEXES_URL, headers=headers, json=data)\n",
        "\n",
        "# Check for success before attempting to decode JSON\n",
        "if response.status_code == 200:\n",
        "    # Store the unique identifier of your index\n",
        "    INDEX_ID = response.json().get('_id')\n",
        "    print(f'Index created with ID: {INDEX_ID}')\n",
        "else:\n",
        "    # Print the status code and full response content for debugging\n",
        "    print(f'Error creating index. Status code: {response.status_code}')\n",
        "    print(response.text)  # Print the raw response content\n",
        "\n",
        "# Print the status code and response\n",
        "#print(f'Status code: {response.status_code}')\n",
        "#pprint(response.json())"
      ]
    },
    {
      "cell_type": "markdown",
      "metadata": {
        "id": "cgGpRwEMyeQ6"
      },
      "source": [
        "### 2.2 - Upload A Video\n",
        "Once you've created an index, you can upload a video. When the video has finished uploading, the API service will automatically create a rich set of vectors containing all the information it needs to perform fast, semantic, accurate, and scalable searches.\n",
        "\n",
        "For this demo, we will work with sports videos. The video resolution must be greater or equal than 360p and less or equal than 4K.\n",
        "\n",
        "Below, we show how to upload a video file from YouTube: [Jenna Marbles - How Girls Get Dressed](https://youtu.be/0Hc0Z6zFbzM?si=a1oqVb0Eve9yzxMD)\n",
        "\n",
        "The API service will retrieve the file directly from the specified URL, so your application doesn't have to store the video locally and upload the bytes. Our platform currently supports only YouTube as an external provider, but we will add support for additional providers in the future."
      ]
    },
    {
      "cell_type": "code",
      "execution_count": 32,
      "metadata": {
        "colab": {
          "base_uri": "https://localhost:8080/"
        },
        "id": "D3ob1vEEbdGV",
        "outputId": "1e371fe7-130f-4fad-d2b3-d003bb4e3644"
      },
      "outputs": [
        {
          "output_type": "stream",
          "name": "stdout",
          "text": [
            "Status code: 201\n",
            "{'_id': '66659a3efa7835326810120c'}\n"
          ]
        }
      ],
      "source": [
        "# Set the header of the request\n",
        "headers = {\n",
        "    \"x-api-key\": API_KEY\n",
        "}\n",
        "\n",
        "# Declare the /tasks/external-provider endpoint\n",
        "TASKS_URL = f\"{API_URL}/tasks/external-provider\"\n",
        "\n",
        "# Construct the body of the request\n",
        "data = {\n",
        "    \"index_id\": \"666599d4e6fb7df29de0f89c\",  # Specify the unique ID of the index\n",
        "    \"url\": \"https://www.youtube.com/watch?v=73_1biulkYk.mp4\",  # Specify the YouTube URL of the video\n",
        "}\n",
        "\n",
        "# Upload the video\n",
        "response = requests.post(TASKS_URL, headers=headers, json=data)\n",
        "\n",
        "# Store the ID of the task in a variable named TASK_ID\n",
        "TASK_ID = response.json().get(\"_id\")\n",
        "\n",
        "# Print the status code and response\n",
        "print(f\"Status code: {response.status_code}\")\n",
        "pprint(response.json())"
      ]
    },
    {
      "cell_type": "markdown",
      "metadata": {
        "id": "n7kjB-kq3d5C"
      },
      "source": [
        "The API service must have finished indexing the video before it becomes searchable. You can use the `GET` method of the `/tasks/{_id}` endpoint to monitor the indexing process. Construct the URL for monitoring the indexing process based on the `TASK_ID` variable you’ve declared in the previous step, and wait until the status shows as `ready`:"
      ]
    },
    {
      "cell_type": "code",
      "execution_count": 33,
      "metadata": {
        "colab": {
          "base_uri": "https://localhost:8080/"
        },
        "id": "cYuL6V3L3b-T",
        "outputId": "fe24440e-bff6-4313-ddd1-ef0dab97504d"
      },
      "outputs": [
        {
          "output_type": "stream",
          "name": "stdout",
          "text": [
            "Start uploading video\n",
            "Status code: ready\n",
            "Finish uploading video\n",
            "Time elapsed (in seconds):  245.4978461265564\n"
          ]
        }
      ],
      "source": [
        "import time\n",
        "\n",
        "# Define starting time\n",
        "start = time.time()\n",
        "print(\"Start uploading video\")\n",
        "\n",
        "# Monitor the indexing process\n",
        "TASK_STATUS_URL = f\"{API_URL}/tasks/{TASK_ID}\"\n",
        "while True:\n",
        "    response = requests.get(TASK_STATUS_URL, headers=headers)\n",
        "    STATUS = response.json().get(\"status\")\n",
        "    if STATUS == \"ready\":\n",
        "        print(f\"Status code: {STATUS}\")\n",
        "        break\n",
        "    time.sleep(10)\n",
        "\n",
        "# Define ending time\n",
        "end = time.time()\n",
        "print(\"Finish uploading video\")\n",
        "print(\"Time elapsed (in seconds): \", end - start)"
      ]
    },
    {
      "cell_type": "code",
      "execution_count": 34,
      "metadata": {
        "id": "xdZsX_Fh5Fcq",
        "colab": {
          "base_uri": "https://localhost:8080/"
        },
        "outputId": "51fb0304-f366-4e68-fa75-8d77974407fd"
      },
      "outputs": [
        {
          "output_type": "stream",
          "name": "stdout",
          "text": [
            "VIDEO ID: 66659a48d22b3a3c97bf1d5f\n",
            "{'_id': '66659a3efa7835326810120c',\n",
            " 'created_at': '2024-06-09T12:04:14.069Z',\n",
            " 'estimated_time': '2024-06-09T12:07:40.728Z',\n",
            " 'hls': {'status': 'COMPLETE',\n",
            "         'thumbnail_urls': ['https://deuqpmn4rs7j5.cloudfront.net/66649f09937ce44a0402bad4/66659a3efa7835326810120c/thumbnails/fd31bdd0-eaf4-427f-bc27-6cb7939e6249.0000001.jpg'],\n",
            "         'updated_at': '2024-06-09T12:04:59.781Z',\n",
            "         'video_url': 'https://deuqpmn4rs7j5.cloudfront.net/66649f09937ce44a0402bad4/66659a3efa7835326810120c/stream/fd31bdd0-eaf4-427f-bc27-6cb7939e6249.m3u8'},\n",
            " 'index_id': '666599d4e6fb7df29de0f89c',\n",
            " 'metadata': {'duration': 159,\n",
            "              'filename': 'Deadpool & Wolverine | Official Trailer | In '\n",
            "                          'Theaters July 26',\n",
            "              'height': 720,\n",
            "              'width': 1280},\n",
            " 'status': 'ready',\n",
            " 'type': 'index_task_info',\n",
            " 'updated_at': '2024-06-09T12:08:52.222Z',\n",
            " 'video_id': '66659a48d22b3a3c97bf1d5f'}\n"
          ]
        }
      ],
      "source": [
        "# Retrieve the unique identifier of the video\n",
        "VIDEO_ID = response.json().get('video_id')\n",
        "\n",
        "# Print the status code, the unique identifier of the video, and the response\n",
        "print(f\"VIDEO ID: {VIDEO_ID}\")\n",
        "pprint(response.json())"
      ]
    },
    {
      "cell_type": "markdown",
      "source": [
        "Note that the 1.2 version of the API is in beta, and videos can take longer to upload and process when using the Pegasus video understanding engine.\n",
        "\n",
        "For the purpose of this demo, let's use a sample account with sample indexes that has been preloaded with videos. These indexes have been processed with both the Marengo 2.5 and the Pegasus 1.0 engines."
      ],
      "metadata": {
        "id": "nl1id0gAnMNI"
      }
    },
    {
      "cell_type": "code",
      "source": [],
      "metadata": {
        "id": "-q6I797rfRki"
      },
      "execution_count": null,
      "outputs": []
    },
    {
      "cell_type": "code",
      "source": [
        "# Specify the API key and the API URL of the sample account\n",
        "%env API_KEY=tlk_3Q0CS7N2TKJJK42D1DQQ71SWFX3S\n",
        "%env API_URL=https://api.twelvelabs.io/v1.2"
      ],
      "metadata": {
        "colab": {
          "base_uri": "https://localhost:8080/"
        },
        "id": "p6HZFd3dnOMf",
        "outputId": "2cb4cddf-600c-4071-bf76-f8efd16e6d46"
      },
      "execution_count": 35,
      "outputs": [
        {
          "output_type": "stream",
          "name": "stdout",
          "text": [
            "env: API_KEY=tlk_3Q0CS7N2TKJJK42D1DQQ71SWFX3S\n",
            "env: API_URL=https://api.twelvelabs.io/v1.2\n"
          ]
        }
      ]
    },
    {
      "cell_type": "code",
      "source": [
        "# Retrieve the new API URL and the new API key\n",
        "API_URL = os.getenv(\"API_URL\")\n",
        "assert API_URL\n",
        "\n",
        "API_KEY = os.getenv(\"API_KEY\")\n",
        "assert API_KEY"
      ],
      "metadata": {
        "id": "w0kS-JMgnOWZ"
      },
      "execution_count": 36,
      "outputs": []
    },
    {
      "cell_type": "markdown",
      "metadata": {
        "id": "tm6cSWWruuc-"
      },
      "source": [
        "### 2.3 - List Indexes\n",
        "Let's return a list of the indexes in this account. The API returns indexes sorted by creation date, with the oldest indexes at the top of the list."
      ]
    },
    {
      "cell_type": "code",
      "execution_count": 38,
      "metadata": {
        "colab": {
          "base_uri": "https://localhost:8080/"
        },
        "id": "oqzlUiGTu6E1",
        "outputId": "00686095-a974-4c17-9d2d-a3aa2eb55805"
      },
      "outputs": [
        {
          "output_type": "stream",
          "name": "stdout",
          "text": [
            "Status code: 200\n",
            "{'data': [{'_id': '66649f31937ce44a0402bad8',\n",
            "           'addons': ['thumbnail'],\n",
            "           'created_at': '2024-06-08T18:13:05.563Z',\n",
            "           'engines': [{'engine_name': 'marengo2.6',\n",
            "                        'engine_options': ['visual',\n",
            "                                           'conversation',\n",
            "                                           'text_in_video',\n",
            "                                           'logo']},\n",
            "                       {'engine_name': 'pegasus1',\n",
            "                        'engine_options': ['visual', 'conversation']}],\n",
            "           'expires_at': '2024-09-06T18:13:05.563Z',\n",
            "           'index_name': 'My Index (Default)',\n",
            "           'total_duration': 0,\n",
            "           'updated_at': '2024-06-08T18:13:05.563Z',\n",
            "           'video_count': 0},\n",
            "          {'_id': '66653a83fa7835326810108d',\n",
            "           'addons': ['thumbnail'],\n",
            "           'created_at': '2024-06-09T05:15:47.545Z',\n",
            "           'engines': [{'engine_name': 'marengo2.6',\n",
            "                        'engine_options': ['visual',\n",
            "                                           'conversation',\n",
            "                                           'text_in_video',\n",
            "                                           'logo']},\n",
            "                       {'engine_name': 'pegasus1',\n",
            "                        'engine_options': ['visual', 'conversation']}],\n",
            "           'expires_at': '2024-09-07T05:15:47.545Z',\n",
            "           'index_name': 'Infinite Jest',\n",
            "           'total_duration': 3110.949375,\n",
            "           'updated_at': '2024-06-09T05:35:47.667Z',\n",
            "           'video_count': 20},\n",
            "          {'_id': '666599d4e6fb7df29de0f89c',\n",
            "           'addons': ['thumbnail'],\n",
            "           'created_at': '2024-06-09T12:02:28.658Z',\n",
            "           'engines': [{'engine_name': 'marengo2.6',\n",
            "                        'engine_options': ['visual',\n",
            "                                           'conversation',\n",
            "                                           'text_in_video',\n",
            "                                           'logo']},\n",
            "                       {'engine_name': 'pegasus1',\n",
            "                        'engine_options': ['visual', 'conversation']}],\n",
            "           'expires_at': '2024-09-07T12:02:28.658Z',\n",
            "           'index_name': 'Content Creator Videos',\n",
            "           'total_duration': 159,\n",
            "           'updated_at': '2024-06-09T12:04:24.197Z',\n",
            "           'video_count': 1}],\n",
            " 'page_info': {'limit_per_page': 10,\n",
            "               'page': 1,\n",
            "               'total_page': 1,\n",
            "               'total_results': 3}}\n"
          ]
        }
      ],
      "source": [
        "# Set the header of the request\n",
        "headers = {\n",
        "    \"x-api-key\": API_KEY,\n",
        "    \"Content-Type\": \"application/json\"\n",
        "}\n",
        "\n",
        "# List indexes\n",
        "url = f\"{API_URL}/indexes?page=1&page_limit=10&sort_by=created_at&sort_option=asc\"\n",
        "\n",
        "response = requests.get(url, headers=headers)\n",
        "print(f'Status code: {response.status_code}')\n",
        "pprint(response.json())"
      ]
    },
    {
      "cell_type": "markdown",
      "source": [
        "For this demo, let's go with Content Creator videos."
      ],
      "metadata": {
        "id": "uQaobsROnYmL"
      }
    },
    {
      "cell_type": "code",
      "execution_count": 39,
      "metadata": {
        "colab": {
          "base_uri": "https://localhost:8080/"
        },
        "id": "HSlZg-S_84cX",
        "outputId": "652090e0-d71a-4baa-9f59-e85635b9c29f"
      },
      "outputs": [
        {
          "output_type": "stream",
          "name": "stdout",
          "text": [
            "env: INDEX_ID=666599d4e6fb7df29de0f89c\n"
          ]
        }
      ],
      "source": [
        "%env INDEX_ID=666599d4e6fb7df29de0f89c"
      ]
    },
    {
      "cell_type": "markdown",
      "metadata": {
        "id": "SMR6AnEh8tob"
      },
      "source": [
        "### 2.4 - List Videos In An Index\n",
        "Let's list all the videos in this existing \"Content Creator\" index for verification."
      ]
    },
    {
      "cell_type": "code",
      "execution_count": 40,
      "metadata": {
        "colab": {
          "base_uri": "https://localhost:8080/"
        },
        "id": "jYGhUdm19FAM",
        "outputId": "40c6fab7-8082-4809-9778-33cebea27012"
      },
      "outputs": [
        {
          "output_type": "stream",
          "name": "stdout",
          "text": [
            "666599d4e6fb7df29de0f89c\n",
            "Status code: 200\n",
            "{'data': [{'_id': '66659a48d22b3a3c97bf1d5f',\n",
            "           'created_at': '2024-06-09T12:04:14Z',\n",
            "           'indexed_at': '2024-06-09T12:08:52Z',\n",
            "           'metadata': {'duration': 159,\n",
            "                        'engine_ids': ['marengo2.6', 'pegasus1'],\n",
            "                        'filename': 'Deadpool & Wolverine | Official Trailer | '\n",
            "                                    'In Theaters July 26',\n",
            "                        'fps': 24,\n",
            "                        'height': 720,\n",
            "                        'size': 10016501,\n",
            "                        'width': 1280},\n",
            "           'updated_at': '2024-06-09T12:04:24Z'}],\n",
            " 'page_info': {'limit_per_page': 10,\n",
            "               'page': 1,\n",
            "               'total_duration': 159,\n",
            "               'total_page': 1,\n",
            "               'total_results': 1}}\n"
          ]
        }
      ],
      "source": [
        "# Retrieve the unique identifier of the existing index\n",
        "INDEX_ID = os.getenv(\"INDEX_ID\")\n",
        "print (INDEX_ID)\n",
        "assert INDEX_ID\n",
        "\n",
        "# Set the header of the request\n",
        "headers = {\n",
        "    \"x-api-key\": API_KEY,\n",
        "    \"Content-Type\": \"application/json\"\n",
        "}\n",
        "\n",
        "# List all the videos in an index\n",
        "INDEXES_VIDEOS_URL = f\"{API_URL}/indexes/{INDEX_ID}/videos\"\n",
        "\n",
        "response = requests.get(INDEXES_VIDEOS_URL, headers=headers)\n",
        "print(f'Status code: {response.status_code}')\n",
        "pprint(response.json())"
      ]
    },
    {
      "cell_type": "markdown",
      "metadata": {
        "id": "WIvyhd9qwCPR"
      },
      "source": [
        "## 3 - Search API\n",
        "Twelve Labs provides a holistic understanding of your videos, moving beyond the limitations of relying solely on individual types of data like keywords, metadata, or transcriptions. By simultaneously integrating all available forms of information, including images, sounds, spoken words, and on-screen text, the platform captures the complex relationships among these elements for a more human-like interpretation.\n",
        "\n",
        "Search options specify the source of information the engine uses when performing a search. The following values are supported:\n",
        "\n",
        "*   **visual**: This option allows you to analyze video content as you would see and hear from it, including actions, objects, sounds, and events, and excluding human speech. The following examples are valid search terms: \"birds flying near a castle\", \"sun shining on water\", \"chickens on the road\", \"an officer holding a child's hand.\", \"crowd cheering in the stadium.\"\n",
        "*   **conversation**: This option allows you to analyze human speech within your videos.\n",
        "*   **text_in_video**: This option allows you to detect and extract text (OCR) shown within your videos.\n",
        "*   **logo**: This option allows you to identify the presence of brand logos within your videos."
      ]
    },
    {
      "cell_type": "markdown",
      "metadata": {
        "id": "GbgqFjaZt7mu"
      },
      "source": [
        "### 3.1 - Visual\n",
        "The platform allows you to analyze video content as you would see and hear from it, including actions, objects, sounds, and events, excluding human speech. The following example sets the value of the `search_options` parameter to  `[\"visual\"]` to search for \"**A woman wearing makeup**\" using visual cues:"
      ]
    },
    {
      "cell_type": "code",
      "execution_count": 41,
      "metadata": {
        "colab": {
          "base_uri": "https://localhost:8080/"
        },
        "id": "NNvNPU_n-Hqx",
        "outputId": "a288f243-61aa-4602-9b3f-a5907f1c6776"
      },
      "outputs": [
        {
          "output_type": "stream",
          "name": "stdout",
          "text": [
            "Status code: 200\n",
            "{'data': [],\n",
            " 'page_info': {'limit_per_page': 10,\n",
            "               'page_expired_at': '2024-06-09T12:09:42Z',\n",
            "               'total_inner_matches': 0,\n",
            "               'total_results': 0},\n",
            " 'search_pool': {'index_id': '666599d4e6fb7df29de0f89c',\n",
            "                 'total_count': 1,\n",
            "                 'total_duration': 159}}\n"
          ]
        }
      ],
      "source": [
        "# Construct the URL of the `/search` endpoint\n",
        "SEARCH_URL = f\"{API_URL}/search/\"\n",
        "\n",
        "# Set the header of the request\n",
        "headers = {\n",
        "    \"x-api-key\": API_KEY\n",
        "}\n",
        "\n",
        "query = \"A woman wearing makeup\"\n",
        "\n",
        "# Declare a dictionary named `data`\n",
        "data = {\n",
        "    \"query\": query,  # Specify your search query\n",
        "    \"index_id\": INDEX_ID,  # Indicate the unique identifier of your index\n",
        "    \"search_options\": [\"visual\"],  # Specify the search options\n",
        "}\n",
        "\n",
        "# Make a search request\n",
        "response = requests.post(SEARCH_URL, headers=headers, json=data)\n",
        "print(f\"Status code: {response.status_code}\")\n",
        "pprint(response.json())"
      ]
    },
    {
      "cell_type": "code",
      "execution_count": 42,
      "metadata": {
        "colab": {
          "base_uri": "https://localhost:8080/"
        },
        "id": "HxjRwt6-tlBG",
        "outputId": "880eb1d4-b61f-45cb-9bf4-78936ad1c65e"
      },
      "outputs": [
        {
          "output_type": "stream",
          "name": "stdout",
          "text": [
            "Search Query:  A woman wearing makeup\n",
            "Option: Visual\n"
          ]
        }
      ],
      "source": [
        "# Import libraries to display visual in the notebook\n",
        "from IPython.display import display\n",
        "from IPython.display import Image\n",
        "\n",
        "# Display a list of thumbnail URLs of the returning videos\n",
        "res = response.json()\n",
        "print (\"Search Query: \", query)\n",
        "print (\"Option:\", \"Visual\")\n",
        "\n",
        "for item in res[\"data\"]:\n",
        "  display(Image(url=item[\"thumbnail_url\"]))\n",
        "  print(\"Confidence Level:\", item[\"confidence\"])\n",
        "  print(\"Confidence Score:\", item[\"score\"])"
      ]
    },
    {
      "cell_type": "markdown",
      "metadata": {
        "id": "WxKmySMmAutH"
      },
      "source": [
        "### 3.2 - Conversation\n",
        "The platform allows you to analyze human speech within your videos.\n",
        "The following example sets the value of the `search_options` parameter to `[\"conversation\"]` to perform a semantic search and returns the matches for the specified search term - \"**Strapped in the ocean**\":"
      ]
    },
    {
      "cell_type": "code",
      "execution_count": 64,
      "metadata": {
        "colab": {
          "base_uri": "https://localhost:8080/"
        },
        "id": "qLVIrR7tBPV0",
        "outputId": "2f741dbc-8ddf-4dff-8f6c-6f2f131cd4df"
      },
      "outputs": [
        {
          "output_type": "stream",
          "name": "stdout",
          "text": [
            "Status code: 200\n",
            "{'data': [],\n",
            " 'page_info': {'limit_per_page': 10,\n",
            "               'page_expired_at': '2024-06-09T12:17:14Z',\n",
            "               'total_inner_matches': 0,\n",
            "               'total_results': 0},\n",
            " 'search_pool': {'index_id': '666599d4e6fb7df29de0f89c',\n",
            "                 'total_count': 1,\n",
            "                 'total_duration': 159}}\n"
          ]
        }
      ],
      "source": [
        "# Construct the URL of the `/search` endpoint\n",
        "SEARCH_URL = f\"{API_URL}/search/\"\n",
        "\n",
        "# Set the header of the request\n",
        "headers = {\n",
        "    \"x-api-key\": API_KEY\n",
        "}\n",
        "\n",
        "query = \"guy with red mask\"\n",
        "\n",
        "# Declare a dictionary named `data`\n",
        "data = {\n",
        "    \"query\": query,  # Specify your search query\n",
        "    \"index_id\": INDEX_ID,  # Indicate the unique identifier of your index\n",
        "    \"search_options\": [\"conversation\"],  # Specify the search options\n",
        "    \"conversation_option\": \"semantic\",  # Specifty the conversation option\n",
        "}\n",
        "\n",
        "# Make a search request\n",
        "response = requests.post(SEARCH_URL, headers=headers, json=data)\n",
        "print(f\"Status code: {response.status_code}\")\n",
        "pprint(response.json())"
      ]
    },
    {
      "cell_type": "code",
      "execution_count": 65,
      "metadata": {
        "colab": {
          "base_uri": "https://localhost:8080/"
        },
        "id": "m5r56Sks45nd",
        "outputId": "a1b99abb-7e77-42a7-e5db-416a435b6722"
      },
      "outputs": [
        {
          "output_type": "stream",
          "name": "stdout",
          "text": [
            "Search Query:  guy with red mask\n",
            "Option: Conversation\n"
          ]
        }
      ],
      "source": [
        "# Display a list of thumbnail URLs of the returning videos\n",
        "res = response.json()\n",
        "print (\"Search Query: \", query)\n",
        "print (\"Option:\", \"Conversation\")\n",
        "\n",
        "for item in res[\"data\"]:\n",
        "  print (\"GT Text: \", item[\"metadata\"][0][\"text\"])\n",
        "  display(Image(url=item[\"thumbnail_url\"]))\n",
        "  print(\"Confidence Level:\", item[\"confidence\"])\n",
        "  print(\"Confidence Score:\", item[\"score\"])"
      ]
    },
    {
      "cell_type": "markdown",
      "metadata": {
        "id": "qVl9drJYBfun"
      },
      "source": [
        "### 3.3 - Text In Video\n",
        "The platform allows you to detect and extract text (OCR) shown within your videos. The following example sets the value of the `search_options` parameter to `[\"text_in_video\"]` to search for text that matches \"**Libya**\":"
      ]
    },
    {
      "cell_type": "code",
      "execution_count": 45,
      "metadata": {
        "colab": {
          "base_uri": "https://localhost:8080/"
        },
        "id": "2c9zJvy9B37z",
        "outputId": "883fc5c2-966d-49de-9b9f-2c3845798655"
      },
      "outputs": [
        {
          "output_type": "stream",
          "name": "stdout",
          "text": [
            "Status code: 200\n",
            "{'data': [],\n",
            " 'page_info': {'limit_per_page': 10,\n",
            "               'page_expired_at': '2024-06-09T12:09:45Z',\n",
            "               'total_inner_matches': 0,\n",
            "               'total_results': 0},\n",
            " 'search_pool': {'index_id': '666599d4e6fb7df29de0f89c',\n",
            "                 'total_count': 1,\n",
            "                 'total_duration': 159}}\n"
          ]
        }
      ],
      "source": [
        "# Construct the URL of the `/search` endpoint\n",
        "SEARCH_URL = f\"{API_URL}/search/\"\n",
        "\n",
        "# Set the header of the request\n",
        "headers = {\n",
        "    \"x-api-key\": API_KEY\n",
        "}\n",
        "\n",
        "query = \"Libya\"\n",
        "\n",
        "# Declare a dictionary named `data`\n",
        "data = {\n",
        "    \"query\": query,  # Specify your search query\n",
        "    \"index_id\": INDEX_ID,  # Indicate the unique identifier of your index\n",
        "    \"search_options\": [\"text_in_video\"],  # Specify the search options\n",
        "}\n",
        "\n",
        "# Make a search request\n",
        "response = requests.post(SEARCH_URL, headers=headers, json=data)\n",
        "print(f\"Status code: {response.status_code}\")\n",
        "pprint(response.json())"
      ]
    },
    {
      "cell_type": "code",
      "execution_count": 46,
      "metadata": {
        "colab": {
          "base_uri": "https://localhost:8080/"
        },
        "id": "SuzeF1Bc5EfR",
        "outputId": "66c44721-1e58-4bda-d889-13c59025b760"
      },
      "outputs": [
        {
          "output_type": "stream",
          "name": "stdout",
          "text": [
            "Search Query:  Libya\n",
            "Option: Text In Video\n"
          ]
        }
      ],
      "source": [
        "# Display a list of thumbnail URLs of the returning videos\n",
        "res = response.json()\n",
        "print (\"Search Query: \", query)\n",
        "print (\"Option:\", \"Text In Video\")\n",
        "\n",
        "for item in res[\"data\"]:\n",
        "  display(Image(url=item[\"thumbnail_url\"]))\n",
        "  print(\"Confidence Level:\", item[\"confidence\"])\n",
        "  print(\"Confidence Score:\", item[\"score\"])"
      ]
    },
    {
      "cell_type": "markdown",
      "metadata": {
        "id": "uNjYx--BuZFA"
      },
      "source": [
        "### 3.4 - Logo\n",
        "The platform allows you to detect and extract brand logos as shown within your videos. For this, call the [`POST`](/reference/make-search-request) method of the `/search` endpoint with the following parameters:\n",
        "\n",
        "- `query`:  The name of the company\n",
        "- `search_options`:  The source of information the platform uses (`logo`)\n",
        "- `index_id`: The unique identifier of the index you've previously created\n",
        "\n",
        "The example code below finds when the Subway logo appears in your videos:"
      ]
    },
    {
      "cell_type": "code",
      "execution_count": 47,
      "metadata": {
        "colab": {
          "base_uri": "https://localhost:8080/"
        },
        "id": "4Z86ZDk5urAS",
        "outputId": "ef723b0a-d2fd-4069-b8f7-69af626068a8"
      },
      "outputs": [
        {
          "output_type": "stream",
          "name": "stdout",
          "text": [
            "Status code: 200\n",
            "{'data': [],\n",
            " 'page_info': {'limit_per_page': 10,\n",
            "               'page_expired_at': '2024-06-09T12:09:46Z',\n",
            "               'total_inner_matches': 0,\n",
            "               'total_results': 0},\n",
            " 'search_pool': {'index_id': '666599d4e6fb7df29de0f89c',\n",
            "                 'total_count': 1,\n",
            "                 'total_duration': 159}}\n"
          ]
        }
      ],
      "source": [
        "# Construct the URL of the `/search` endpoint\n",
        "SEARCH_URL = f\"{API_URL}/search/\"\n",
        "\n",
        "# Set the header of the request\n",
        "headers = {\n",
        "    \"x-api-key\": API_KEY\n",
        "}\n",
        "\n",
        "query = \"Subway\"\n",
        "\n",
        "# Declare a dictionary named `data`\n",
        "data = {\n",
        "    \"query\": query,  # Specify your search query\n",
        "    \"index_id\": INDEX_ID,  # Indicate the unique identifier of your index\n",
        "    \"search_options\": [\"logo\"],  # Specify the search options\n",
        "}\n",
        "\n",
        "# Make a search request\n",
        "response = requests.post(SEARCH_URL, headers=headers, json=data)\n",
        "print(f\"Status code: {response.status_code}\")\n",
        "pprint(response.json())"
      ]
    },
    {
      "cell_type": "code",
      "execution_count": 48,
      "metadata": {
        "colab": {
          "base_uri": "https://localhost:8080/"
        },
        "id": "dzld_8Ex0b6N",
        "outputId": "5ca6a2ce-c5cd-4c6a-fcc5-8a38ead88380"
      },
      "outputs": [
        {
          "output_type": "stream",
          "name": "stdout",
          "text": [
            "Search Query:  Subway\n",
            "Option: Logo\n"
          ]
        }
      ],
      "source": [
        "# Display a list of thumbnail URLs of the returning videos\n",
        "res = response.json()\n",
        "print (\"Search Query: \", query)\n",
        "print (\"Option:\", \"Logo\")\n",
        "\n",
        "for item in res[\"data\"]:\n",
        "  display(Image(url=item[\"thumbnail_url\"]))\n",
        "  print(\"Confidence Level:\", item[\"confidence\"])\n",
        "  print(\"Confidence Score:\", item[\"score\"])"
      ]
    },
    {
      "cell_type": "markdown",
      "metadata": {
        "id": "TQ2Hsn0LwKT2"
      },
      "source": [
        "## 4 - Classify API\n",
        "Content classification is the process of organizing content into distinct categories based on specific criteria. This process helps you organize your videos into more manageable and useful categories, making them easier to find, access, and use.\n",
        "\n",
        "If you have an extensive library of videos you'd like to analyze to identify specific actions or entities, manually finding the segments that meet your criteria is time-consuming. With a single API call, the Twelve Labs platform automatically identifies the actions and entities you specify whenever they appear in your videos and assigns a likelihood score that indicates how likely those actions or entities are to occur in each of your videos.\n",
        "\n",
        "The platform allows you to define either a simple or a hierarchical taxonomy system to organize your videos.  A simple taxonomy system is composed of a single set of categories, similar to [YouTube video categories](https://developers.google.com/youtube/v3/docs/videoCategories/list). A hierarchical taxonomy system is composed of categories and subcategories, similar to [IAB Tech Lab Content Taxonomy](https://iabtechlab.com/standards/content-taxonomy/).\n",
        "\n",
        "The following parameters allow you to control how classification works:\n",
        "\n",
        "- `classes`: An array of objects containing the names and definitions of the entities or actions that the platform must identify. Each object is composed of the following fields:\n",
        "  - `name`: A string representing the name you want to give this class.\n",
        "  - `prompts`: An array of strings that specifies what the class contains. The platform uses the values you provide in this array to classify your videos.\n",
        "- `threshold`: A numerical value that indicates the confidence level of the video segment's match with a certain class.\n",
        "- `ratio`: A numerical value that displays the ratio of the sum of the lengths of the matching video segments divided by the total length of the video."
      ]
    },
    {
      "cell_type": "markdown",
      "metadata": {
        "id": "KYlCycWht90s"
      },
      "source": [
        "### Classifying videos based on one class\n",
        "The following example code classifies the content of your videos based on one classes - `BeautyTok`:"
      ]
    },
    {
      "cell_type": "code",
      "execution_count": 49,
      "metadata": {
        "colab": {
          "base_uri": "https://localhost:8080/"
        },
        "id": "mBhALApwaLox",
        "outputId": "70b22278-b9ab-401f-a241-8b1aa168ef9a"
      },
      "outputs": [
        {
          "output_type": "stream",
          "name": "stdout",
          "text": [
            "Status code: 200\n",
            "{'data': [],\n",
            " 'page_info': {'limit_per_page': 0, 'page_expired_at': '', 'total_results': 0}}\n"
          ]
        }
      ],
      "source": [
        "# Construct the URL of the `/classify/bulk` endpoint\n",
        "CLASSIFY_BULK_URL = f\"{API_URL}/classify/bulk\"\n",
        "\n",
        "# Set the header of the request\n",
        "headers = {\n",
        "    \"x-api-key\": API_KEY\n",
        "}\n",
        "\n",
        "# Declare a dictionary named `data`\n",
        "data =  {\n",
        "  \"options\": [\n",
        "        \"visual\",\n",
        "        \"conversation\",\n",
        "        \"text_in_video\"\n",
        "  ],  # Specify how the platform will analyze your video\n",
        "  \"index_id\": INDEX_ID,  # Indicate the unique identifier of your index\n",
        "  \"classes\": [\n",
        "      {\n",
        "          \"name\": \"BeautyTok\",\n",
        "          \"prompts\": [\n",
        "              \"Makeup\",\n",
        "              \"Skincare\",\n",
        "              \"Cosmetic Products\",\n",
        "              \"Doing Nails\",\n",
        "              \"Doing Hair\",\n",
        "              \"Eyeshadow\",\n",
        "              \"Lipstick\",\n",
        "              \"Blush\"\n",
        "          ]\n",
        "      }\n",
        "  ],\n",
        "  \"threshold\": {\n",
        "        \"min_video_score\": 80,  # Minimum video score is 80\n",
        "        \"min_duration_ratio\": 0.5  # Minimum duration ratio is 50%\n",
        "  }\n",
        "}\n",
        "\n",
        "# Make a classification request\n",
        "response = requests.post(CLASSIFY_BULK_URL, headers=headers, json=data)\n",
        "print (f'Status code: {response.status_code}')\n",
        "pprint(response.json())"
      ]
    },
    {
      "cell_type": "markdown",
      "metadata": {
        "id": "CPMj836badap"
      },
      "source": [
        "In the example output above, note that the `data` array is composed of three objects. Each object contains the following:\n",
        "\n",
        "*   A field named `video_id` representing the unique identifier of the video that has been classified.\n",
        "*   An array named `labels` containing information about each video. Note that, when classifying a video, the API service finds all video fragments that match the label you've specified in the request. For each video fragment found, the API service determines the level of confidence that the fragment matches the label. The `max_score` field is determined by comparing the confidence scores of each fragment and selecting the highest one.\n",
        "\n",
        "### Retrieving detailed information about each matching video fragment\n",
        "\n",
        "The following example code sets the `include_clips` parameter to true to specify that the API service should retrieve detailed information about each matching video fragment:"
      ]
    },
    {
      "cell_type": "code",
      "execution_count": 50,
      "metadata": {
        "colab": {
          "base_uri": "https://localhost:8080/"
        },
        "id": "hzta-Yy7D3Mv",
        "outputId": "5e45f3f5-1cfe-4511-9811-1c72a1d4f882"
      },
      "outputs": [
        {
          "output_type": "stream",
          "name": "stdout",
          "text": [
            "Status code: 200\n",
            "{'data': [],\n",
            " 'page_info': {'limit_per_page': 0, 'page_expired_at': '', 'total_results': 0}}\n"
          ]
        }
      ],
      "source": [
        "# Construct the URL of the `/classify/bulk` endpoint\n",
        "CLASSIFY_BULK_URL = f\"{API_URL}/classify/bulk\"\n",
        "\n",
        "# Set the header of the request\n",
        "headers = {\n",
        "    \"x-api-key\": API_KEY\n",
        "}\n",
        "\n",
        "# Declare a dictionary named `data`\n",
        "data =  {\n",
        "  \"options\": [\n",
        "        \"visual\",\n",
        "        \"conversation\",\n",
        "        \"text_in_video\"\n",
        "  ],\n",
        "  \"index_id\": INDEX_ID,\n",
        "  \"include_clips\": True,\n",
        "  \"classes\": [\n",
        "      {\n",
        "          \"name\": \"BeautyTok\",\n",
        "          \"prompts\": [\n",
        "              \"Makeup\",\n",
        "              \"Skincare\",\n",
        "              \"Cosmetic Products\",\n",
        "              \"Doing Nails\",\n",
        "              \"Doing Hair\",\n",
        "              \"Eyeshadow\",\n",
        "              \"Lipstick\",\n",
        "              \"Blush\"\n",
        "          ]\n",
        "      }\n",
        "  ],\n",
        "  \"threshold\": {\n",
        "        \"min_video_score\": 80,\n",
        "        \"min_duration_ratio\": 0.5\n",
        "  }\n",
        "}\n",
        "\n",
        "# Make a classification request\n",
        "response = requests.post(CLASSIFY_BULK_URL, headers=headers, json=data)\n",
        "print (f'Status code: {response.status_code}')\n",
        "pprint(response.json())"
      ]
    },
    {
      "cell_type": "markdown",
      "metadata": {
        "id": "bF6hzOM_lmGZ"
      },
      "source": [
        "In the example output above, note that, for each video, the API service returns an array named `clips` containing detailed information about a single matching video fragment.\n",
        "\n",
        "### Classifying a video based on multiple classes\n",
        "\n",
        "The following example code classifies the content of your videos based on three classes - `BeautyTok`, `FashionTok`, and `CookTok`:"
      ]
    },
    {
      "cell_type": "code",
      "execution_count": 51,
      "metadata": {
        "colab": {
          "base_uri": "https://localhost:8080/"
        },
        "id": "tGrp5ldymSxf",
        "outputId": "83cb931e-44b7-441e-819d-0f3906c765c3"
      },
      "outputs": [
        {
          "output_type": "stream",
          "name": "stdout",
          "text": [
            "Status code: 200\n",
            "{'data': [],\n",
            " 'page_info': {'limit_per_page': 0, 'page_expired_at': '', 'total_results': 0}}\n"
          ]
        }
      ],
      "source": [
        "# Construct the URL of the `/classify/bulk` endpoint\n",
        "CLASSIFY_BULK_URL = f\"{API_URL}/classify/bulk\"\n",
        "\n",
        "# Set the header of the request\n",
        "headers = {\n",
        "    \"x-api-key\": API_KEY\n",
        "}\n",
        "\n",
        "# Declare a dictionary named `data`\n",
        "data =  {\n",
        "  \"options\": [\n",
        "        \"visual\",\n",
        "        \"conversation\",\n",
        "        \"text_in_video\"\n",
        "  ],\n",
        "  \"index_id\": INDEX_ID,\n",
        "  \"classes\": [\n",
        "        {\n",
        "          \"name\": \"BeautyTok\",\n",
        "          \"prompts\": [\n",
        "              \"Makeup\",\n",
        "              \"Skincare\",\n",
        "              \"Cosmetic Products\",\n",
        "              \"Doing Nails\",\n",
        "              \"Doing Hair\",\n",
        "              \"Eyeshadow\",\n",
        "              \"Lipstick\",\n",
        "              \"Blush\"\n",
        "          ]\n",
        "      },\n",
        "        {\n",
        "            \"name\": \"FashionTok\",\n",
        "            \"prompts\": [\n",
        "                \"Clothing\",\n",
        "                \"Outfit\",\n",
        "                \"Fashion Design\",\n",
        "                \"Men's Fashion\",\n",
        "                \"Women's Fashion\",\n",
        "                \"Find Your Style\",\n",
        "                \"Upcoming Fashion Trends\",\n",
        "                \"Accessories\",\n",
        "                \"Streetwear\",\n",
        "                \"Jewelry\",\n",
        "                \"Clothing Care\",\n",
        "                \"Style Advice\"\n",
        "            ]\n",
        "        },\n",
        "        {\n",
        "            \"name\": \"CookTok\",\n",
        "            \"prompts\": [\n",
        "                \"Cooking Tutorial\",\n",
        "                \"Cooking Utensils\",\n",
        "                \"Baking Tutorials\",\n",
        "                \"Recipes\",\n",
        "                \"Restaurants\",\n",
        "                \"Food\",\n",
        "                \"Cooking Tips\",\n",
        "                \"Cooking Techniques\",\n",
        "                \"Healthy Cooking\"\n",
        "            ]\n",
        "        }\n",
        "  ],\n",
        "  \"threshold\": {\n",
        "        \"min_video_score\": 80,\n",
        "        \"min_duration_ratio\": 0.5\n",
        "  }\n",
        "}\n",
        "\n",
        "# Make a classification request\n",
        "response = requests.post(CLASSIFY_BULK_URL, headers=headers, json=data)\n",
        "print (f'Status code: {response.status_code}')\n",
        "pprint(response.json())"
      ]
    },
    {
      "cell_type": "markdown",
      "metadata": {
        "id": "QgY8gyXnnE1w"
      },
      "source": [
        "In the example output above, note that the `data` array contains three objects, each corresponding to a different video. For each video, the response contains information that helps you determine the likelihood that each of the labels you've specified in the request appears in that video.\n",
        "\n",
        "### Retrieving a detailed score for each class\n",
        "\n",
        "The following example code sets the `show_detailed_score` parameter to `true` to specify that the platform should retrieve the maximum score, average score, duration weighted score, and normalized score for each class:"
      ]
    },
    {
      "cell_type": "code",
      "execution_count": 52,
      "metadata": {
        "colab": {
          "base_uri": "https://localhost:8080/"
        },
        "id": "bo2cXWD82cv7",
        "outputId": "bcdb5a39-4f78-4be4-aa9b-c4c7b6b3c990"
      },
      "outputs": [
        {
          "output_type": "stream",
          "name": "stdout",
          "text": [
            "Status code: 200\n",
            "{'data': [],\n",
            " 'page_info': {'limit_per_page': 0, 'page_expired_at': '', 'total_results': 0}}\n"
          ]
        }
      ],
      "source": [
        "# Construct the URL of the `/classify/bulk` endpoint\n",
        "CLASSIFY_BULK_URL = f\"{API_URL}/classify/bulk\"\n",
        "\n",
        "# Set the header of the request\n",
        "headers = {\n",
        "    \"x-api-key\": API_KEY\n",
        "}\n",
        "\n",
        "# Declare a dictionary named `data`\n",
        "data =  {\n",
        "  \"options\": [\"visual\"],\n",
        "  \"index_id\": INDEX_ID,\n",
        "  \"show_detailed_score\": True,\n",
        "  \"classes\": [\n",
        "        {\n",
        "          \"name\": \"BeautyTok\",\n",
        "          \"prompts\": [\n",
        "              \"Makeup\",\n",
        "              \"Skincare\",\n",
        "              \"Cosmetic Products\",\n",
        "              \"Doing Nails\",\n",
        "              \"Doing Hair\",\n",
        "              \"Eyeshadow\",\n",
        "              \"Lipstick\",\n",
        "              \"Blush\"\n",
        "          ]\n",
        "      },\n",
        "        {\n",
        "            \"name\": \"FashionTok\",\n",
        "            \"prompts\": [\n",
        "                \"Clothing\",\n",
        "                \"Outfit\",\n",
        "                \"Fashion Design\",\n",
        "                \"Men's Fashion\",\n",
        "                \"Women's Fashion\",\n",
        "                \"Find Your Style\",\n",
        "                \"Upcoming Fashion Trends\",\n",
        "                \"Accessories\",\n",
        "                \"Streetwear\",\n",
        "                \"Jewelry\",\n",
        "                \"Clothing Care\",\n",
        "                \"Style Advice\"\n",
        "            ]\n",
        "        },\n",
        "        {\n",
        "            \"name\": \"CookTok\",\n",
        "            \"prompts\": [\n",
        "                \"Cooking Tutorial\",\n",
        "                \"Cooking Utensils\",\n",
        "                \"Baking Tutorials\",\n",
        "                \"Recipes\",\n",
        "                \"Restaurants\",\n",
        "                \"Food\",\n",
        "                \"Cooking Tips\",\n",
        "                \"Cooking Techniques\",\n",
        "                \"Healthy Cooking\"\n",
        "            ]\n",
        "        }\n",
        "  ],\n",
        "  \"threshold\": {\n",
        "        \"min_video_score\": 80,\n",
        "        \"min_duration_ratio\": 0.5\n",
        "  }\n",
        "}\n",
        "\n",
        "# Make a classification request\n",
        "response = requests.post(CLASSIFY_BULK_URL, headers=headers, json=data)\n",
        "print (f'Status code: {response.status_code}')\n",
        "pprint(response.json())"
      ]
    },
    {
      "cell_type": "markdown",
      "metadata": {
        "id": "3E9b76L0wD1f"
      },
      "source": [
        "## 5 - Generate API\n",
        "The Generate API suite creates concise textual representations such as titles, summaries, chapters, and highlights for your videos, to name as a few. Unlike conventional models limited to unimodal interpretations (for example, summary videos relying solely on video transcription), the Generate API suite uses a multimodal approach that analyzes the whole context of a video, including visuals, sounds, spoken words, and texts and their relationship with one another. This ensures a holistic understanding of your videos, capturing nuances that an unimodal interpretation might miss. And then, using video-to-text generative capabilities, our model can turn that understanding into actual text format of your choice.\n",
        "\n",
        "The Generate API suite offers three distinct endpoints tailored to meet various requirements for creating concise textual representations from videos. Each endpoint has been designed with specific levels of flexibility and customization to accommodate different needs.\n",
        "\n",
        "**1 - The `/gist` endpoint**\n",
        "\n",
        "- **Function**: Generates topics, titles, and hashtags.\n",
        "- **Customization**: Uses predefined templates.\n",
        "- **Prompt **: No.\n",
        "- **Best use**: To generate an immediate and straightforward text representation without specific customization.\n",
        "\n",
        "**2 - The `/summarize` endpoint**\n",
        "\n",
        "- **Function**: Generates summaries, chapters, and highlights.\n",
        "- **Customization**: Operates primarily on predefined templates, similar to `/gist`. However, you can provide a custom prompt that guides the model on how to generate the output.\n",
        "- **Prompt**: Optional. While you can invoke this endpoint without a prompt, providing one allows for tailored outputs.\n",
        "- **Best use:** To balance the efficiency of built-in templates and bespoke customization abilities.\n",
        "\n",
        "**3 - The `/generate` endpoint**\n",
        "\n",
        "- **Function**: Generates open-ended text representations from videos.\n",
        "- **Customization**: Relies solely on user-defined prompts, ensuring maximum flexibility.\n",
        "- **Prompt**: Required. You must provide clear instructions to guide the model.\n",
        "- **Best use**: Ideal for advanced users with specific output requirements beyond the built-in templates.\n"
      ]
    },
    {
      "cell_type": "code",
      "source": [
        "# Specify the unique identifier of an existing video ('Jenna Marbles - How Girls Get Dressed')\n",
        "%env VIDEO_ID=6528b54a43e8c47e4eb47e80"
      ],
      "metadata": {
        "colab": {
          "base_uri": "https://localhost:8080/"
        },
        "id": "XwUHg4qDAd4D",
        "outputId": "2ff365e0-c858-499a-8c29-1ea3d504fa33"
      },
      "execution_count": 53,
      "outputs": [
        {
          "output_type": "stream",
          "name": "stdout",
          "text": [
            "env: VIDEO_ID=6528b54a43e8c47e4eb47e80\n"
          ]
        }
      ]
    },
    {
      "cell_type": "code",
      "source": [
        "# Retrieve the unique identifier of the existing video\n",
        "VIDEO_ID = os.getenv(\"VIDEO_ID\")\n",
        "print (VIDEO_ID)\n",
        "assert VIDEO_ID"
      ],
      "metadata": {
        "colab": {
          "base_uri": "https://localhost:8080/"
        },
        "id": "Hc1wY3A3Audj",
        "outputId": "8e67b37a-bd2f-4eba-8161-98969c402022"
      },
      "execution_count": 54,
      "outputs": [
        {
          "output_type": "stream",
          "name": "stdout",
          "text": [
            "6528b54a43e8c47e4eb47e80\n"
          ]
        }
      ]
    },
    {
      "cell_type": "markdown",
      "source": [
        "To demonstrate the Generate API, let's work with this video: [Jenna Marbles - How Girls Get Dressed](https://youtu.be/0Hc0Z6zFbzM?si=a1oqVb0Eve9yzxMD)"
      ],
      "metadata": {
        "id": "X3YQ4hdhtC0r"
      }
    },
    {
      "cell_type": "markdown",
      "metadata": {
        "id": "8G_u7-emIseC"
      },
      "source": [
        "### 5.1 - Generate titles, topics, and hashtags\n",
        "Use the `/gist` endpoint if you require a swift breakdown of the essence of your videos. This endpoint operates exclusively on a set of predefined templates to generate the following concise and accurate textual representations:\n",
        "\n",
        "- **Title**: Distills the essence of a video into a brief, coherent phrase, facilitating quick understanding and categorization. For example, a title like \"From Consumerism to Minimalism: A Journey Toward Sustainable Living\" clearly indicates the video's narrative trajectory,  emphasizing themes related to consumption patterns and sustainable lifestyles.\n",
        "- **Topic**: Represents the central themes or subjects of a video and provides a high-level understanding based on the meaning conveyed by all modalities. Topics enable effective categorization and quick referencing. For example, \"Shopping Vlog Lifestyle\" denotes a video covering aspects related to shopping experiences, vlogging, and the associated lifestyle.\n",
        "- **Hashtag**: Concisely summarizes the themes, subjects, or sentiments expressed within a video. Hashtags improve categorization and searchability on social media platforms. For example, hashtags such as `#BlackFriday,` `#ShoppingMania,` and `#Consumerism` indicate key focal points in a video, potentially related to shopping events, consumer behaviors, or broader commentary on consumption patterns.\n",
        "\n",
        "Handling this set of predefined tasks offers a streamlined approach to obtaining concise textual representations, essential for rapid content understanding and categorization."
      ]
    },
    {
      "cell_type": "markdown",
      "metadata": {
        "id": "M0aONOTLM4O2"
      },
      "source": [
        "The following example generates a title, topic, and hashtag for the specified video:"
      ]
    },
    {
      "cell_type": "code",
      "execution_count": 55,
      "metadata": {
        "colab": {
          "base_uri": "https://localhost:8080/"
        },
        "id": "2hXru2ujzFp5",
        "outputId": "a2eae748-b1b3-48e9-b085-acd5e50636b8"
      },
      "outputs": [
        {
          "output_type": "stream",
          "name": "stdout",
          "text": [
            "Status code: 404\n",
            "{'code': 'resource_not_exists',\n",
            " 'message': \"Resource with id '6528b54a43e8c47e4eb47e80' does not exist in \"\n",
            "            'video collection.'}\n"
          ]
        }
      ],
      "source": [
        "# Define the /gist endpoint\n",
        "GIST_URL = f\"{API_URL}/gist\"\n",
        "\n",
        "# Set the header of the request\n",
        "headers = {\n",
        "    \"x-api-key\": API_KEY\n",
        "}\n",
        "\n",
        "# Declare a dictionary named `data`\n",
        "data = {\n",
        "  \"video_id\": VIDEO_ID,\n",
        "  \"types\": [\"title\", \"topic\", \"hashtag\"]\n",
        "}\n",
        "\n",
        "# Make a gist request\n",
        "response = requests.post(GIST_URL, headers=headers, json=data)\n",
        "print(f\"Status code: {response.status_code}\")\n",
        "pprint(response.json())"
      ]
    },
    {
      "cell_type": "markdown",
      "metadata": {
        "id": "fJ201R6-DezM"
      },
      "source": [
        "### 5.2 - Generate summaries, chapters, and highlights\n",
        "Use the `/summarize` endpoint if you want to utilize pre-defined templates for general summarization tasks and, optionally, provide a prompt to customize the output. This endpoint generates the following textual representations:\n",
        "\n",
        "- **Summaries**:  The platform returns a brief that encapsulates the key points of a video, presenting the most important information clearly and concisely. Depending on your prompt, a summary can take various forms, such as a single paragraph, a series of paragraphs, an email, or a structured list of bullet points. For example, a summary highlighting Black Friday events might include a description of a crowded mall, key commentary by a news reporter on consumer behavior, and individual perspectives on societal values associated with consumption.\n",
        "- **Chapters**: The platform returns a chronological list of all the segments in a video, providing a granular breakdown of its content. For each chapter, the platform returns its starting and end times, measured in seconds from the beginning of the video segment, a descriptive headline that offers a brief of the events or activities within that segment, and an accompanying summary that elaborates on the headline. For example, the first chapter of a stand-up comedy might describe the comedian's entrance and the first joke. The accompanying summary could delve into the content, detailing the comedian's humorous take on a specific subject, such as the cultural nuances of Tai Chi exercises.\n",
        "- **Highlights**: The platform returns a chronologically ordered list of the most important events within a video. Unlike chapters, highlights only capture the key moments, providing a snapshot of the video's main topics. For each highlight, the platform returns its starting and end times, measured in seconds from the beginning of the video, and a brief description that captures the essence of the segment. For example, a highlight might capture a significant event like a bank heist in a video with multiple scenes."
      ]
    },
    {
      "cell_type": "markdown",
      "metadata": {
        "id": "AM1Qd39MPCAo"
      },
      "source": [
        "The following example code generates a summary for the specified video:"
      ]
    },
    {
      "cell_type": "code",
      "execution_count": 56,
      "metadata": {
        "colab": {
          "base_uri": "https://localhost:8080/"
        },
        "id": "Gn2RMdjuny_f",
        "outputId": "c3dbe705-1e77-46c5-b18d-fb41fa36d8fc"
      },
      "outputs": [
        {
          "output_type": "stream",
          "name": "stdout",
          "text": [
            "Status code: 404\n",
            "{'code': 'resource_not_exists',\n",
            " 'message': \"Resource with id '6528b54a43e8c47e4eb47e80' does not exist in \"\n",
            "            'video collection.'}\n"
          ]
        }
      ],
      "source": [
        "# Define the /summarize endpoint\n",
        "SUMMARIZE_URL = f\"{API_URL}/summarize\"\n",
        "\n",
        "# Set the header of the request\n",
        "headers = {\n",
        "    \"x-api-key\": API_KEY\n",
        "}\n",
        "\n",
        "# Declare a dictionary named `data`\n",
        "data = {\n",
        "  \"video_id\": VIDEO_ID,\n",
        "  \"type\": \"summary\"\n",
        "}\n",
        "\n",
        "# Make a summarization request\n",
        "response = requests.post(SUMMARIZE_URL, headers=headers, json=data)\n",
        "print(f\"Status code: {response.status_code}\")\n",
        "pprint(response.json())"
      ]
    },
    {
      "cell_type": "markdown",
      "metadata": {
        "id": "7CYf7KKBPWSi"
      },
      "source": [
        "Optionally, you can use the `prompt` field to provide context for the summarization task. The following example specifies the purpose and the desired length:"
      ]
    },
    {
      "cell_type": "code",
      "execution_count": 57,
      "metadata": {
        "id": "r_go51_bPbLY",
        "colab": {
          "base_uri": "https://localhost:8080/"
        },
        "outputId": "4603226c-191c-4c62-87b1-c6523a2d84fe"
      },
      "outputs": [
        {
          "output_type": "stream",
          "name": "stdout",
          "text": [
            "Status code: 404\n",
            "{'code': 'resource_not_exists',\n",
            " 'message': \"Resource with id '6528b54a43e8c47e4eb47e80' does not exist in \"\n",
            "            'video collection.'}\n"
          ]
        }
      ],
      "source": [
        "# Define the /summarize endpoint\n",
        "SUMMARIZE_URL = f\"{API_URL}/summarize\"\n",
        "\n",
        "# Set the header of the request\n",
        "headers = {\n",
        "    \"x-api-key\": API_KEY\n",
        "}\n",
        "\n",
        "# Declare a dictionary named `data`\n",
        "data = {\n",
        "  \"video_id\": VIDEO_ID,\n",
        "  \"type\": \"summary\",\n",
        "  \"prompt\": \"Generate a summary of this video for a fashion show, up to three sentences.\"\n",
        "}\n",
        "\n",
        "# Make a summarization request\n",
        "response = requests.post(SUMMARIZE_URL, headers=headers, json=data)\n",
        "print(f\"Status code: {response.status_code}\")\n",
        "pprint(response.json())"
      ]
    },
    {
      "cell_type": "markdown",
      "metadata": {
        "id": "NVvS8QrsPnPU"
      },
      "source": [
        "The following example generates a list of chapters for the specified video:"
      ]
    },
    {
      "cell_type": "code",
      "execution_count": 58,
      "metadata": {
        "id": "KS3KRyXDPpHK",
        "colab": {
          "base_uri": "https://localhost:8080/"
        },
        "outputId": "19a8d209-db74-4fac-b3e5-4bccb0907e96"
      },
      "outputs": [
        {
          "output_type": "stream",
          "name": "stdout",
          "text": [
            "Status code: 404\n",
            "{'code': 'resource_not_exists',\n",
            " 'message': \"Resource with id '6528b54a43e8c47e4eb47e80' does not exist in \"\n",
            "            'video collection.'}\n"
          ]
        }
      ],
      "source": [
        "# Define the /summarize endpoint\n",
        "SUMMARIZE_URL = f\"{API_URL}/summarize\"\n",
        "\n",
        "# Set the header of the request\n",
        "headers = {\n",
        "    \"x-api-key\": API_KEY\n",
        "}\n",
        "\n",
        "# Declare a dictionary named `data`\n",
        "data = {\n",
        "  \"video_id\": VIDEO_ID,\n",
        "  \"type\": \"chapter\"\n",
        "}\n",
        "\n",
        "# Make a summarization request\n",
        "response = requests.post(SUMMARIZE_URL, headers=headers, json=data)\n",
        "print(f\"Status code: {response.status_code}\")\n",
        "pprint(response.json())"
      ]
    },
    {
      "cell_type": "markdown",
      "metadata": {
        "id": "uJsEMtxQPxqS"
      },
      "source": [
        "Optionally, you can use the `prompt` parameter to indicate that the tone of voice should be stressful:"
      ]
    },
    {
      "cell_type": "code",
      "execution_count": 59,
      "metadata": {
        "id": "IEpeMHGaPzUE",
        "colab": {
          "base_uri": "https://localhost:8080/"
        },
        "outputId": "48218757-07a0-4cdb-847f-32a56d045e65"
      },
      "outputs": [
        {
          "output_type": "stream",
          "name": "stdout",
          "text": [
            "Status code: 404\n",
            "{'code': 'resource_not_exists',\n",
            " 'message': \"Resource with id '6528b54a43e8c47e4eb47e80' does not exist in \"\n",
            "            'video collection.'}\n"
          ]
        }
      ],
      "source": [
        "# Define the /summarize endpoint\n",
        "SUMMARIZE_URL = f\"{API_URL}/summarize\"\n",
        "\n",
        "# Set the header of the request\n",
        "headers = {\n",
        "    \"x-api-key\": API_KEY\n",
        "}\n",
        "\n",
        "# Declare a dictionary named `data`\n",
        "data = {\n",
        "  \"video_id\": VIDEO_ID,\n",
        "  \"type\": \"chapter\",\n",
        "  \"prompt\": \"Generate chapters using stressful language.\"\n",
        "}\n",
        "\n",
        "# Make a summarization request\n",
        "response = requests.post(SUMMARIZE_URL, headers=headers, json=data)\n",
        "print(f\"Status code: {response.status_code}\")\n",
        "pprint(response.json())"
      ]
    },
    {
      "cell_type": "markdown",
      "metadata": {
        "id": "flUhM8kSP7CQ"
      },
      "source": [
        "The following example generates a list of the important events or activities within a video:"
      ]
    },
    {
      "cell_type": "code",
      "execution_count": 60,
      "metadata": {
        "id": "3fRtWUmqP7db",
        "colab": {
          "base_uri": "https://localhost:8080/"
        },
        "outputId": "9d3c94e6-57bf-40d5-ba07-76bba727a3fd"
      },
      "outputs": [
        {
          "output_type": "stream",
          "name": "stdout",
          "text": [
            "Status code: 404\n",
            "{'code': 'resource_not_exists',\n",
            " 'message': \"Resource with id '6528b54a43e8c47e4eb47e80' does not exist in \"\n",
            "            'video collection.'}\n"
          ]
        }
      ],
      "source": [
        "# Define the /summarize endpoint\n",
        "SUMMARIZE_URL = f\"{API_URL}/summarize\"\n",
        "\n",
        "# Set the header of the request\n",
        "headers = {\n",
        "    \"x-api-key\": API_KEY\n",
        "}\n",
        "\n",
        "# Declare a dictionary named `data`\n",
        "data = {\n",
        "  \"video_id\": VIDEO_ID,\n",
        "  \"type\": \"highlight\"\n",
        "}\n",
        "\n",
        "# Make a summarization request\n",
        "response = requests.post(SUMMARIZE_URL, headers=headers, json=data)\n",
        "print(f\"Status code: {response.status_code}\")\n",
        "pprint(response.json())"
      ]
    },
    {
      "cell_type": "markdown",
      "metadata": {
        "id": "L9idbrj8QBwD"
      },
      "source": [
        "Optionally, you can use the `prompt` parameter to generate highlights for the same video, showcasing the most confusing parts:"
      ]
    },
    {
      "cell_type": "code",
      "execution_count": 61,
      "metadata": {
        "id": "g4azaGnUQDr4",
        "colab": {
          "base_uri": "https://localhost:8080/"
        },
        "outputId": "fbbd3222-ed49-4d8e-fc72-a1ea853bfb9d"
      },
      "outputs": [
        {
          "output_type": "stream",
          "name": "stdout",
          "text": [
            "Status code: 404\n",
            "{'code': 'resource_not_exists',\n",
            " 'message': \"Resource with id '6528b54a43e8c47e4eb47e80' does not exist in \"\n",
            "            'video collection.'}\n"
          ]
        }
      ],
      "source": [
        "# Define the /summarize endpoint\n",
        "SUMMARIZE_URL = f\"{API_URL}/summarize\"\n",
        "\n",
        "# Set the header of the request\n",
        "headers = {\n",
        "    \"x-api-key\": API_KEY\n",
        "}\n",
        "\n",
        "# Declare a dictionary named `data`\n",
        "data = {\n",
        "  \"video_id\": VIDEO_ID,\n",
        "  \"type\": \"highlight\",\n",
        "  \"prompt\": \"Generate highlights that showcase the most confusing parts of the video.\"\n",
        "}\n",
        "\n",
        "# Make a summarization request\n",
        "response = requests.post(SUMMARIZE_URL, headers=headers, json=data)\n",
        "print(f\"Status code: {response.status_code}\")\n",
        "pprint(response.json())"
      ]
    },
    {
      "cell_type": "markdown",
      "metadata": {
        "id": "oUn2t1Oa4JI3"
      },
      "source": [
        "### 5.3 - Generate open-ended textual representations\n",
        "Use the `/generate` endpoint for open-ended textual representations that are more customizable and tailor-made than the templates offered by the `/gist` and `/summarize` endpoints. This endpoint can produce a diverse range of textual representations based on your prompt, including, but not limited to, tables of content, action items, memos, reports and comprehensive analyses.\n",
        "\n",
        "The following example generates an Instagram post about women's fashion choice:"
      ]
    },
    {
      "cell_type": "code",
      "execution_count": 62,
      "metadata": {
        "colab": {
          "base_uri": "https://localhost:8080/"
        },
        "id": "YV4bfITL4Nke",
        "outputId": "c3bab570-0320-467f-d7a6-45a2f12db9c3"
      },
      "outputs": [
        {
          "output_type": "stream",
          "name": "stdout",
          "text": [
            "Status code: 404\n",
            "{'code': 'resource_not_exists',\n",
            " 'message': \"Resource with id '6528b54a43e8c47e4eb47e80' does not exist in \"\n",
            "            'video collection.'}\n"
          ]
        }
      ],
      "source": [
        "# Define the /generate endpoint\n",
        "GENERATE_URL = f\"{API_URL}/generate\"\n",
        "\n",
        "# Set the header of the request\n",
        "headers = {\n",
        "    \"x-api-key\": API_KEY\n",
        "}\n",
        "\n",
        "# Declare a dictionary named `data`\n",
        "data = {\n",
        "  \"video_id\": VIDEO_ID,\n",
        "  \"prompt\": \"Write an Instagram post about women's fashion choice based on this video.\"\n",
        "}\n",
        "\n",
        "# Make a generation request\n",
        "response = requests.post(GENERATE_URL, headers=headers, json=data)\n",
        "print(f\"Status code: {response.status_code}\")\n",
        "pprint(response.json())"
      ]
    },
    {
      "cell_type": "markdown",
      "metadata": {
        "id": "kuMxEBx1Q4_k"
      },
      "source": [
        "The following example generates a rap song based on the provided template:"
      ]
    },
    {
      "cell_type": "code",
      "execution_count": 63,
      "metadata": {
        "id": "2j9F1N6xQ7Ax",
        "colab": {
          "base_uri": "https://localhost:8080/"
        },
        "outputId": "b9a60162-04cc-4f39-f261-bd433426d8b6"
      },
      "outputs": [
        {
          "output_type": "stream",
          "name": "stdout",
          "text": [
            "Status code: 404\n",
            "{'code': 'resource_not_exists',\n",
            " 'message': \"Resource with id '6528b54a43e8c47e4eb47e80' does not exist in \"\n",
            "            'video collection.'}\n"
          ]
        }
      ],
      "source": [
        "# Define the /generate endpoint\n",
        "GENERATE_URL = f\"{API_URL}/generate\"\n",
        "\n",
        "# Set the header of the request\n",
        "headers = {\n",
        "    \"x-api-key\": API_KEY\n",
        "}\n",
        "\n",
        "# Declare a dictionary named `data`\n",
        "data = {\n",
        "  \"video_id\": VIDEO_ID,\n",
        "  \"prompt\": \"Write a rap song based on this video.\"\n",
        "}\n",
        "\n",
        "# Make a generation request\n",
        "response = requests.post(GENERATE_URL, headers=headers, json=data)\n",
        "print(f\"Status code: {response.status_code}\")\n",
        "pprint(response.json())"
      ]
    },
    {
      "cell_type": "markdown",
      "source": [
        "Have fun playing around with the Twelve Labs API!🚀"
      ],
      "metadata": {
        "id": "Ne6MW19juQis"
      }
    }
  ],
  "metadata": {
    "colab": {
      "provenance": [],
      "toc_visible": true
    },
    "kernelspec": {
      "display_name": "Python 3",
      "name": "python3"
    },
    "language_info": {
      "name": "python"
    }
  },
  "nbformat": 4,
  "nbformat_minor": 0
}